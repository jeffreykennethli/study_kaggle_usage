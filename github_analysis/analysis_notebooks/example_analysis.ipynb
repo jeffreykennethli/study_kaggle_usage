{
 "cells": [
  {
   "cell_type": "markdown",
   "metadata": {},
   "source": [
    "# Example Analysis of Jupyter Notebooks on Github\n",
    "*Adam Rule - February 5, 2018*\n",
    "\n",
    "In July 2017, we downloaded and analyzed nearly all of the Jupyter Notebooks in public repositories on Github. In total, this dataset includes:\n",
    "* ~1.25 million Jupyter Notebooks\n",
    "* metadata about each of these notebooks\n",
    "* metadata about each of the nearly 200,000 repositories that contained a Jupyter Notebook\n",
    "* top level README files for the nearly 150,000 repositiories with such a file\n",
    "\n",
    "As an introduction to this dataset, we have created a smaller sample dataset including data about 1000 randomly sampled repositories and the roughtly 6000 notebooks they contain. This notebook demonstrates how to perform a couple simple analyses with this sample dataset. \n",
    "\n",
    "For more information about the full dataset please see the [data repository at UC San Diego Library's Digital Collections](https://doi.org/10.6075/J0JW8C39).\n",
    "\n",
    "For more information about our initial analysis of this dataset, please see our paper [Exploration and Explanaion in Computational Notebooks](https://doi.org/10.1145/3173574.3173606) to be published at CHI 2018. If the above DOI link is not active yet, see our [draft version of the paper](http://adamrule.com/files/papers/chi_2018_computational_notebooks_final_web.pdf)."
   ]
  },
  {
   "cell_type": "markdown",
   "metadata": {},
   "source": [
    "## Imports and Loading Data"
   ]
  },
  {
   "cell_type": "code",
   "execution_count": 1,
   "metadata": {
    "tags": []
   },
   "outputs": [],
   "source": [
    "import pandas as pd\n",
    "import numpy as np\n",
    "import matplotlib.pyplot as plt\n",
    "import seaborn as sns\n",
    "import json\n",
    "\n",
    "%matplotlib inline"
   ]
  },
  {
   "cell_type": "code",
   "execution_count": 2,
   "metadata": {},
   "outputs": [
    {
     "name": "stdout",
     "output_type": "stream",
     "text": [
      "6529 sample notebooks\n",
      "1000 sample repositiores\n",
      "750 sample readmes\n"
     ]
    }
   ],
   "source": [
    "df_nb = pd.read_csv('../data/csv/notebooks_sample.csv')\n",
    "df_repo = pd.read_csv('../data/csv/repositories_sample.csv')\n",
    "df_readme = pd.read_csv('../data/csv/readmes_sample.csv')\n",
    "\n",
    "print('%s sample notebooks' % df_nb.shape[0])\n",
    "print('%s sample repositiores' % df_repo.shape[0])\n",
    "print('%s sample readmes' % df_readme.shape[0])"
   ]
  },
  {
   "cell_type": "markdown",
   "metadata": {},
   "source": [
    "## A Word about Data\n",
    "\n",
    "You may notice that we are starting by loading three files from the `csv` folder. These files summarize data that was downloaded from Github. However the raw data lives in four other folders: `notebook_metadata`, `notebooks`, `repository_metadata`, and `readmes`. We describe these data in more detail elsewhere in the data repository, but in short they include:\n",
    "\n",
    "**Notebook Metadata** - Each JSON file in this folder is the result of a query to Github asking for all the Jupyter Notebooks within a certain range of byte sizes (e.g. 0 to 10 bytes). We had to subdivide this query by byte size because Github will only return up to 1000 results at a time. Github further paginates results into pages with up to 100 results each. Therefore, a query returning 977 results would be broken up into ten different pages, the first nine with 100 results each and the last with 77 results. Each file name includes the byte size and page number of the results it contains. Most of the relevant data from these files are summarized in the `notebooks_sample.csv` file.\n",
    "\n",
    "**Notebooks** - Each ipynb file in this folder was downloaded directly from Github using the url listed in `notebooks_sample.csv`. The files are named based on of the `nb_id` we assigned to each notebook in `notebooks_sample.csv`.\n",
    "\n",
    "**Repository Metadata** - Each JSON file in this folder is Github's response to a query for metadata relating to a repository that included a notebook in our dataset. Each file is named using a repository id that Github assigns. This data is summarized in `repositories_sample.csv`, however, the raw JSON files include more information such as how many times the repository had been forked, stared, or watched.\n",
    "\n",
    "**Readmes** - Each JSON file in this folder is Github's response to a query for the top level README file associated with a repository containing a Jupyter Notebook. Some of these JSON files may be empty if there was not a README file in the repository's top directory. Each JSON file is named using the unique id that Github assigns each repository. This README data, including the content of each README file, is summarized in `readmes_sample.csv`. Note that the README content is Base64 encoded in the CSV and JSON files."
   ]
  },
  {
   "cell_type": "markdown",
   "metadata": {},
   "source": [
    "## How many notebooks per repository?\n",
    "\n",
    "One high level question we might want to ask is how many notebooks there are each repository. Are most notebooks singletons, living in a repostiory by themselves, or do most live in repositories with other notebook files? In this case, we can answer this question using data found in the `notebooks.csv` file, now as the dataframe `df_nb`."
   ]
  },
  {
   "cell_type": "code",
   "execution_count": 5,
   "metadata": {},
   "outputs": [
    {
     "data": {
      "text/plain": [
       "Text(0, 0.5, '# Repositories')"
      ]
     },
     "execution_count": 5,
     "metadata": {},
     "output_type": "execute_result"
    },
    {
     "data": {
      "image/png": "[encoded data removed]",
      "text/plain": [
       "<Figure size 1152x432 with 1 Axes>"
      ]
     },
     "metadata": {
      "needs_background": "light"
     },
     "output_type": "display_data"
    }
   ],
   "source": [
    "plt.figure(figsize=(16,6))\n",
    "repo_counts = df_nb.repo_id.value_counts()\n",
    "\n",
    "ax = sns.histplot(repo_counts, kde=False, bins = np.logspace(0,3,30))\n",
    "ax.set_xscale('log')\n",
    "ax.set_xlabel('Notebooks per Repository (log)')\n",
    "ax.set_ylabel('# Repositories')"
   ]
  },
  {
   "cell_type": "markdown",
   "metadata": {},
   "source": [
    "From this log plot, it looks like a little over 1/3 of repositories only have one notebook file in them (10^0), but most have more than one, and some have hundreds."
   ]
  },
  {
   "cell_type": "markdown",
   "metadata": {},
   "source": [
    "## What are these repositories about?\n",
    "\n",
    "Another question we may want to ask is what are these repositories about? Are they mostly machine learning analyses? Or or do some analyze genomic data? There are many ways to answer this question including using natural language processing to identify keywords in the notebooks. A simpler analysis (which will not require downloading the `nltk` Python package) would be to look at the descriptions of each repository by hand. We will use this trivial analysis to demonstrate scraping additional data from the raw repository metadata JSON files we downloaded from Github."
   ]
  },
  {
   "cell_type": "code",
   "execution_count": 6,
   "metadata": {
    "tags": []
   },
   "outputs": [],
   "source": [
    "def get_description(repo_id):\n",
    "    repo_meta_name = '../data/repository_metadata/repo_' + str(repo_id) + '.json'\n",
    "    \n",
    "    with open(repo_meta_name) as meta_file:\n",
    "        try:\n",
    "            data = json.load(meta_file)\n",
    "            return data['description']\n",
    "        except:\n",
    "            return None\n",
    "        \n",
    "df_repo['description'] = df_repo['repo_id'].apply(get_description)"
   ]
  },
  {
   "cell_type": "markdown",
   "metadata": {},
   "source": [
    "Now we can look at the first 20 descriptions to get a sense for what the repositories are about. \n",
    "\n",
    "Note the diversity of topics (perception, banking fraud, NYC subway data). Also note that many repositories seem to be associated with course projects (BioCoding 2015, Stanford cs231n)"
   ]
  },
  {
   "cell_type": "code",
   "execution_count": 7,
   "metadata": {},
   "outputs": [
    {
     "data": {
      "text/plain": [
       "0                     Interactive Python book exercises\n",
       "1                  Coursework for BioCoding 2015 Course\n",
       "2                                                  None\n",
       "3     an evolving approach for writing Jupyter/IPyth...\n",
       "4                   IMPLEMENTING A PERCEPTRON ALGORITHM\n",
       "5     Identifying fraudulent transactions and bankno...\n",
       "6                                                  None\n",
       "7                             Analyzing NYC subway data\n",
       "8     spherical-harmonics-expansion using boost and gsl\n",
       "9                                                  None\n",
       "10                                      Stanford cs231n\n",
       "11    IPython notebook that uses Boto, Pandas and Ma...\n",
       "12    ZipPy is a Python3 interpreter on top of Truff...\n",
       "13               Probabilistic Robotics Test Repository\n",
       "14                                                 None\n",
       "15                                                 None\n",
       "16                                                 None\n",
       "17    My solution to the Boston housing prices proje...\n",
       "18    [PyCon IL 2017] WIP Jupyter kernel for executi...\n",
       "19                               CNN, RNN, LSTM and GAN\n",
       "Name: description, dtype: object"
      ]
     },
     "execution_count": 7,
     "metadata": {},
     "output_type": "execute_result"
    }
   ],
   "source": [
    "df_repo['description'][0:20]"
   ]
  },
  {
   "cell_type": "markdown",
   "metadata": {},
   "source": [
    "## How many cells per notebook?\n",
    "\n",
    "Many analyses will require parsing notebook contents to calculate features such as the libraries each notebook imports, or how many functions each notebook defines. As a simple example of this type of analysis, we will calculate the number of cells in each notebook. Note that despite the `.ipynb` extextion, Jupyter Notebooks are plain JSON files. This makes them relatively easy to analyze, with one catch. The [nbformat](https://nbformat.readthedocs.io/en/latest/) that defines how this JSON object is structured has changed over time. For example, older versions of the notebook stored cells under \"worksheets\" rather than at the top level of the file."
   ]
  },
  {
   "cell_type": "code",
   "execution_count": 8,
   "metadata": {
    "tags": []
   },
   "outputs": [],
   "source": [
    "def get_num_cells(nb_id):\n",
    "    \n",
    "    nb_name = '../data/notebooks/nb_' + str(nb_id) + '.ipynb'\n",
    "    \n",
    "    with open(nb_name) as nb_file:\n",
    "        \n",
    "        try:\n",
    "            # get the nb as a JSON file\n",
    "            data = json.load(nb_file)\n",
    "            if isinstance(data, dict): \n",
    "                keys = data.keys()\n",
    "            else:\n",
    "                keys = []\n",
    "            \n",
    "            # get the number of cells\n",
    "            if 'cells' in keys:\n",
    "                return len(data['cells'])\n",
    "            elif 'worksheets' in keys:\n",
    "                num_cells = 0\n",
    "                for w in data['worksheets']:\n",
    "                    num_cells += len(w['cells'])\n",
    "                return num_cells\n",
    "        \n",
    "        except:\n",
    "            return None\n",
    "        \n",
    "        \n",
    "df_nb['num_cells'] = df_nb['nb_id'].apply(get_num_cells)"
   ]
  },
  {
   "cell_type": "code",
   "execution_count": 9,
   "metadata": {},
   "outputs": [
    {
     "data": {
      "text/plain": [
       "0      NaN\n",
       "1      NaN\n",
       "2      NaN\n",
       "3     45.0\n",
       "4     44.0\n",
       "5     16.0\n",
       "6     31.0\n",
       "7    141.0\n",
       "8     13.0\n",
       "9      9.0\n",
       "Name: num_cells, dtype: float64"
      ]
     },
     "execution_count": 9,
     "metadata": {},
     "output_type": "execute_result"
    }
   ],
   "source": [
    "df_nb['num_cells'][0:10]"
   ]
  },
  {
   "cell_type": "markdown",
   "metadata": {},
   "source": [
    "It seems like we are missing some data. Are these just bugs in our code, or do the notebooks really not have any cells? Let's take a closer look."
   ]
  },
  {
   "cell_type": "code",
   "execution_count": 11,
   "metadata": {},
   "outputs": [
    {
     "data": {
      "text/html": [
       "<div>\n",
       "<style scoped>\n",
       "    .dataframe tbody tr th:only-of-type {\n",
       "        vertical-align: middle;\n",
       "    }\n",
       "\n",
       "    .dataframe tbody tr th {\n",
       "        vertical-align: top;\n",
       "    }\n",
       "\n",
       "    .dataframe thead th {\n",
       "        text-align: right;\n",
       "    }\n",
       "</style>\n",
       "<table border=\"1\" class=\"dataframe\">\n",
       "  <thead>\n",
       "    <tr style=\"text-align: right;\">\n",
       "      <th></th>\n",
       "      <th>nb_id</th>\n",
       "      <th>html_url</th>\n",
       "      <th>max_filesize</th>\n",
       "      <th>min_filesize</th>\n",
       "      <th>name</th>\n",
       "      <th>path</th>\n",
       "      <th>query_page</th>\n",
       "      <th>repo_id</th>\n",
       "      <th>num_cells</th>\n",
       "    </tr>\n",
       "  </thead>\n",
       "  <tbody>\n",
       "    <tr>\n",
       "      <th>0</th>\n",
       "      <td>294</td>\n",
       "      <td>https://github.com/j3hempsey/dotfiles/blob/f3e...</td>\n",
       "      <td>10</td>\n",
       "      <td>0</td>\n",
       "      <td>jupyter.ipynb</td>\n",
       "      <td>atom/packages/file-icons/examples/jupyter.ipynb</td>\n",
       "      <td>3</td>\n",
       "      <td>33378844</td>\n",
       "      <td>NaN</td>\n",
       "    </tr>\n",
       "    <tr>\n",
       "      <th>1</th>\n",
       "      <td>329</td>\n",
       "      <td>https://github.com/cagdasyetkin/raspberryPi3/b...</td>\n",
       "      <td>10</td>\n",
       "      <td>0</td>\n",
       "      <td>IoTdemo.ipynb</td>\n",
       "      <td>IoTdemo.ipynb</td>\n",
       "      <td>4</td>\n",
       "      <td>89953189</td>\n",
       "      <td>NaN</td>\n",
       "    </tr>\n",
       "    <tr>\n",
       "      <th>2</th>\n",
       "      <td>580</td>\n",
       "      <td>https://github.com/Ruijin1988/Material-Design-...</td>\n",
       "      <td>10</td>\n",
       "      <td>0</td>\n",
       "      <td>6_Artistic_style_transfer_with_a_repurposed_VG...</td>\n",
       "      <td>vanilla_vae/6_Artistic_style_transfer_with_a_r...</td>\n",
       "      <td>6</td>\n",
       "      <td>90590288</td>\n",
       "      <td>NaN</td>\n",
       "    </tr>\n",
       "    <tr>\n",
       "      <th>3</th>\n",
       "      <td>594</td>\n",
       "      <td>https://github.com/psygrammer/dprl/blob/c4bdd2...</td>\n",
       "      <td>1000000000</td>\n",
       "      <td>100000000</td>\n",
       "      <td>Design_1.ipynb</td>\n",
       "      <td>part2/OT/3.Result/Design_1.ipynb</td>\n",
       "      <td>1</td>\n",
       "      <td>40293216</td>\n",
       "      <td>45.0</td>\n",
       "    </tr>\n",
       "    <tr>\n",
       "      <th>4</th>\n",
       "      <td>921</td>\n",
       "      <td>https://github.com/ArtemKupriyanov/MOOC-COURSE...</td>\n",
       "      <td>10025</td>\n",
       "      <td>10005</td>\n",
       "      <td>sklearn.datasets-2.ipynb</td>\n",
       "      <td>ML-MIPT-Yandex-spec/2.supervised_learning/Trai...</td>\n",
       "      <td>4</td>\n",
       "      <td>74897953</td>\n",
       "      <td>44.0</td>\n",
       "    </tr>\n",
       "  </tbody>\n",
       "</table>\n",
       "</div>"
      ],
      "text/plain": [
       "   nb_id                                           html_url  max_filesize  \\\n",
       "0    294  https://github.com/j3hempsey/dotfiles/blob/f3e...            10   \n",
       "1    329  https://github.com/cagdasyetkin/raspberryPi3/b...            10   \n",
       "2    580  https://github.com/Ruijin1988/Material-Design-...            10   \n",
       "3    594  https://github.com/psygrammer/dprl/blob/c4bdd2...    1000000000   \n",
       "4    921  https://github.com/ArtemKupriyanov/MOOC-COURSE...         10025   \n",
       "\n",
       "   min_filesize                                               name  \\\n",
       "0             0                                      jupyter.ipynb   \n",
       "1             0                                      IoTdemo.ipynb   \n",
       "2             0  6_Artistic_style_transfer_with_a_repurposed_VG...   \n",
       "3     100000000                                     Design_1.ipynb   \n",
       "4         10005                           sklearn.datasets-2.ipynb   \n",
       "\n",
       "                                                path  query_page   repo_id  \\\n",
       "0    atom/packages/file-icons/examples/jupyter.ipynb           3  33378844   \n",
       "1                                      IoTdemo.ipynb           4  89953189   \n",
       "2  vanilla_vae/6_Artistic_style_transfer_with_a_r...           6  90590288   \n",
       "3                   part2/OT/3.Result/Design_1.ipynb           1  40293216   \n",
       "4  ML-MIPT-Yandex-spec/2.supervised_learning/Trai...           4  74897953   \n",
       "\n",
       "   num_cells  \n",
       "0        NaN  \n",
       "1        NaN  \n",
       "2        NaN  \n",
       "3       45.0  \n",
       "4       44.0  "
      ]
     },
     "execution_count": 11,
     "metadata": {},
     "output_type": "execute_result"
    }
   ],
   "source": [
    "df_nb.head()"
   ]
  },
  {
   "cell_type": "markdown",
   "metadata": {},
   "source": [
    "These first three NaN's make sense. The file sizes are very small (between 0-10 bytes) so it is likely that these are just empty files that have the .ipynb extension. Note that working with this dataset will require ongoing cleaning depending on what question you are trying to answer. For now, let's replace the NaN's with 0 and look at notebook length."
   ]
  },
  {
   "cell_type": "code",
   "execution_count": 13,
   "metadata": {},
   "outputs": [
    {
     "data": {
      "text/plain": [
       "Text(0, 0.5, '# Notebooks')"
      ]
     },
     "execution_count": 13,
     "metadata": {},
     "output_type": "execute_result"
    },
    {
     "data": {
      "image/png": "[encoded data removed]",
      "text/plain": [
       "<Figure size 1152x432 with 1 Axes>"
      ]
     },
     "metadata": {
      "needs_background": "light"
     },
     "output_type": "display_data"
    }
   ],
   "source": [
    "df_nb.num_cells.fillna(0, inplace=True)\n",
    "plt.figure(figsize=(16,6))\n",
    "\n",
    "ax = sns.histplot(df_nb.num_cells, kde=False, bins = np.logspace(0,3,30))\n",
    "ax.set_xscale('log')\n",
    "ax.set_xlabel('# Cells (log)')\n",
    "ax.set_ylabel('# Notebooks')"
   ]
  },
  {
   "cell_type": "markdown",
   "metadata": {},
   "source": [
    "# Conclusion"
   ]
  },
  {
   "cell_type": "markdown",
   "metadata": {},
   "source": [
    "We hope these examples are enough to get you started with using the dataset. For more examples of the kinds of analysis you can perform, see our analysis notebook in the main data repository."
   ]
  },
  {
   "cell_type": "code",
   "execution_count": null,
   "metadata": {
    "collapsed": true,
    "jupyter": {
     "outputs_hidden": true
    }
   },
   "outputs": [],
   "source": []
  }
 ],
 "metadata": {
  "kernelspec": {
   "display_name": "Python 3",
   "language": "python",
   "name": "python3"
  },
  "language_info": {
   "codemirror_mode": {
    "name": "ipython",
    "version": 3
   },
   "file_extension": ".py",
   "mimetype": "text/x-python",
   "name": "python",
   "nbconvert_exporter": "python",
   "pygments_lexer": "ipython3",
   "version": "3.8.8"
  }
 },
 "nbformat": 4,
 "nbformat_minor": 4
}
